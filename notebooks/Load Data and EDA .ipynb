{
 "cells": [
  {
   "cell_type": "code",
   "execution_count": 1,
   "metadata": {},
   "outputs": [],
   "source": [
    "import os\n",
    "import pandas as pd\n",
    "import numpy as np\n",
    "import matplotlib.pyplot as plt\n",
    "import pandas_profiling\n",
    "\n",
    "import warnings\n",
    "warnings.simplefilter(action='ignore', category=FutureWarning)"
   ]
  },
  {
   "cell_type": "code",
   "execution_count": 2,
   "metadata": {},
   "outputs": [
    {
     "name": "stdout",
     "output_type": "stream",
     "text": [
      "/Users/maureenkeenan/Desktop/Kaggle/WiDs_Datathon_2020\n"
     ]
    }
   ],
   "source": [
    "cwd = os.getcwd()\n",
    "maindir = os.path.dirname(cwd)\n",
    "print(maindir)\n",
    "\n",
    "filepath = os.path.join(maindir,'data/external')\n",
    "#os.listdir(filepath)"
   ]
  },
  {
   "cell_type": "code",
   "execution_count": 3,
   "metadata": {},
   "outputs": [
    {
     "data": {
      "text/html": [
       "<div>\n",
       "<style scoped>\n",
       "    .dataframe tbody tr th:only-of-type {\n",
       "        vertical-align: middle;\n",
       "    }\n",
       "\n",
       "    .dataframe tbody tr th {\n",
       "        vertical-align: top;\n",
       "    }\n",
       "\n",
       "    .dataframe thead th {\n",
       "        text-align: right;\n",
       "    }\n",
       "</style>\n",
       "<table border=\"1\" class=\"dataframe\">\n",
       "  <thead>\n",
       "    <tr style=\"text-align: right;\">\n",
       "      <th></th>\n",
       "      <th>encounter_id</th>\n",
       "      <th>patient_id</th>\n",
       "      <th>hospital_id</th>\n",
       "      <th>hospital_death</th>\n",
       "      <th>age</th>\n",
       "      <th>bmi</th>\n",
       "      <th>elective_surgery</th>\n",
       "      <th>ethnicity</th>\n",
       "      <th>gender</th>\n",
       "      <th>height</th>\n",
       "      <th>...</th>\n",
       "      <th>aids</th>\n",
       "      <th>cirrhosis</th>\n",
       "      <th>diabetes_mellitus</th>\n",
       "      <th>hepatic_failure</th>\n",
       "      <th>immunosuppression</th>\n",
       "      <th>leukemia</th>\n",
       "      <th>lymphoma</th>\n",
       "      <th>solid_tumor_with_metastasis</th>\n",
       "      <th>apache_3j_bodysystem</th>\n",
       "      <th>apache_2_bodysystem</th>\n",
       "    </tr>\n",
       "  </thead>\n",
       "  <tbody>\n",
       "    <tr>\n",
       "      <th>0</th>\n",
       "      <td>66154</td>\n",
       "      <td>25312</td>\n",
       "      <td>118</td>\n",
       "      <td>0</td>\n",
       "      <td>68.0</td>\n",
       "      <td>22.73</td>\n",
       "      <td>0</td>\n",
       "      <td>Caucasian</td>\n",
       "      <td>M</td>\n",
       "      <td>180.3</td>\n",
       "      <td>...</td>\n",
       "      <td>0.0</td>\n",
       "      <td>0.0</td>\n",
       "      <td>1.0</td>\n",
       "      <td>0.0</td>\n",
       "      <td>0.0</td>\n",
       "      <td>0.0</td>\n",
       "      <td>0.0</td>\n",
       "      <td>0.0</td>\n",
       "      <td>Sepsis</td>\n",
       "      <td>Cardiovascular</td>\n",
       "    </tr>\n",
       "    <tr>\n",
       "      <th>1</th>\n",
       "      <td>114252</td>\n",
       "      <td>59342</td>\n",
       "      <td>81</td>\n",
       "      <td>0</td>\n",
       "      <td>77.0</td>\n",
       "      <td>27.42</td>\n",
       "      <td>0</td>\n",
       "      <td>Caucasian</td>\n",
       "      <td>F</td>\n",
       "      <td>160.0</td>\n",
       "      <td>...</td>\n",
       "      <td>0.0</td>\n",
       "      <td>0.0</td>\n",
       "      <td>1.0</td>\n",
       "      <td>0.0</td>\n",
       "      <td>0.0</td>\n",
       "      <td>0.0</td>\n",
       "      <td>0.0</td>\n",
       "      <td>0.0</td>\n",
       "      <td>Respiratory</td>\n",
       "      <td>Respiratory</td>\n",
       "    </tr>\n",
       "    <tr>\n",
       "      <th>2</th>\n",
       "      <td>119783</td>\n",
       "      <td>50777</td>\n",
       "      <td>118</td>\n",
       "      <td>0</td>\n",
       "      <td>25.0</td>\n",
       "      <td>31.95</td>\n",
       "      <td>0</td>\n",
       "      <td>Caucasian</td>\n",
       "      <td>F</td>\n",
       "      <td>172.7</td>\n",
       "      <td>...</td>\n",
       "      <td>0.0</td>\n",
       "      <td>0.0</td>\n",
       "      <td>0.0</td>\n",
       "      <td>0.0</td>\n",
       "      <td>0.0</td>\n",
       "      <td>0.0</td>\n",
       "      <td>0.0</td>\n",
       "      <td>0.0</td>\n",
       "      <td>Metabolic</td>\n",
       "      <td>Metabolic</td>\n",
       "    </tr>\n",
       "    <tr>\n",
       "      <th>3</th>\n",
       "      <td>79267</td>\n",
       "      <td>46918</td>\n",
       "      <td>118</td>\n",
       "      <td>0</td>\n",
       "      <td>81.0</td>\n",
       "      <td>22.64</td>\n",
       "      <td>1</td>\n",
       "      <td>Caucasian</td>\n",
       "      <td>F</td>\n",
       "      <td>165.1</td>\n",
       "      <td>...</td>\n",
       "      <td>0.0</td>\n",
       "      <td>0.0</td>\n",
       "      <td>0.0</td>\n",
       "      <td>0.0</td>\n",
       "      <td>0.0</td>\n",
       "      <td>0.0</td>\n",
       "      <td>0.0</td>\n",
       "      <td>0.0</td>\n",
       "      <td>Cardiovascular</td>\n",
       "      <td>Cardiovascular</td>\n",
       "    </tr>\n",
       "    <tr>\n",
       "      <th>4</th>\n",
       "      <td>92056</td>\n",
       "      <td>34377</td>\n",
       "      <td>33</td>\n",
       "      <td>0</td>\n",
       "      <td>19.0</td>\n",
       "      <td>NaN</td>\n",
       "      <td>0</td>\n",
       "      <td>Caucasian</td>\n",
       "      <td>M</td>\n",
       "      <td>188.0</td>\n",
       "      <td>...</td>\n",
       "      <td>0.0</td>\n",
       "      <td>0.0</td>\n",
       "      <td>0.0</td>\n",
       "      <td>0.0</td>\n",
       "      <td>0.0</td>\n",
       "      <td>0.0</td>\n",
       "      <td>0.0</td>\n",
       "      <td>0.0</td>\n",
       "      <td>Trauma</td>\n",
       "      <td>Trauma</td>\n",
       "    </tr>\n",
       "  </tbody>\n",
       "</table>\n",
       "<p>5 rows × 186 columns</p>\n",
       "</div>"
      ],
      "text/plain": [
       "   encounter_id  patient_id  hospital_id  hospital_death   age    bmi  \\\n",
       "0         66154       25312          118               0  68.0  22.73   \n",
       "1        114252       59342           81               0  77.0  27.42   \n",
       "2        119783       50777          118               0  25.0  31.95   \n",
       "3         79267       46918          118               0  81.0  22.64   \n",
       "4         92056       34377           33               0  19.0    NaN   \n",
       "\n",
       "   elective_surgery  ethnicity gender  height  ... aids cirrhosis  \\\n",
       "0                 0  Caucasian      M   180.3  ...  0.0       0.0   \n",
       "1                 0  Caucasian      F   160.0  ...  0.0       0.0   \n",
       "2                 0  Caucasian      F   172.7  ...  0.0       0.0   \n",
       "3                 1  Caucasian      F   165.1  ...  0.0       0.0   \n",
       "4                 0  Caucasian      M   188.0  ...  0.0       0.0   \n",
       "\n",
       "   diabetes_mellitus hepatic_failure immunosuppression  leukemia  lymphoma  \\\n",
       "0                1.0             0.0               0.0       0.0       0.0   \n",
       "1                1.0             0.0               0.0       0.0       0.0   \n",
       "2                0.0             0.0               0.0       0.0       0.0   \n",
       "3                0.0             0.0               0.0       0.0       0.0   \n",
       "4                0.0             0.0               0.0       0.0       0.0   \n",
       "\n",
       "   solid_tumor_with_metastasis  apache_3j_bodysystem  apache_2_bodysystem  \n",
       "0                          0.0                Sepsis       Cardiovascular  \n",
       "1                          0.0           Respiratory          Respiratory  \n",
       "2                          0.0             Metabolic            Metabolic  \n",
       "3                          0.0        Cardiovascular       Cardiovascular  \n",
       "4                          0.0                Trauma               Trauma  \n",
       "\n",
       "[5 rows x 186 columns]"
      ]
     },
     "execution_count": 3,
     "metadata": {},
     "output_type": "execute_result"
    }
   ],
   "source": [
    "df = pd.read_csv(os.path.join(filepath,'training_v2.csv'))\n",
    "df.head()"
   ]
  },
  {
   "cell_type": "code",
   "execution_count": 4,
   "metadata": {},
   "outputs": [
    {
     "name": "stdout",
     "output_type": "stream",
     "text": [
      "<class 'pandas.core.frame.DataFrame'>\n",
      "RangeIndex: 91713 entries, 0 to 91712\n",
      "Columns: 186 entries, encounter_id to apache_2_bodysystem\n",
      "dtypes: float64(170), int64(8), object(8)\n",
      "memory usage: 130.1+ MB\n"
     ]
    }
   ],
   "source": [
    "df.info()"
   ]
  },
  {
   "cell_type": "code",
   "execution_count": 5,
   "metadata": {},
   "outputs": [
    {
     "data": {
      "text/plain": [
       "hospital_death\n",
       "0    83798\n",
       "1     7915\n",
       "Name: hospital_death, dtype: int64"
      ]
     },
     "execution_count": 5,
     "metadata": {},
     "output_type": "execute_result"
    }
   ],
   "source": [
    "# Look at our target variable: hospital_death\n",
    "df.groupby('hospital_death').hospital_death.count()"
   ]
  },
  {
   "cell_type": "code",
   "execution_count": 6,
   "metadata": {},
   "outputs": [
    {
     "data": {
      "text/plain": [
       "0.09445332824172414"
      ]
     },
     "execution_count": 6,
     "metadata": {},
     "output_type": "execute_result"
    }
   ],
   "source": [
    "7915/83798"
   ]
  },
  {
   "cell_type": "code",
   "execution_count": 7,
   "metadata": {},
   "outputs": [],
   "source": [
    "# Change this to text to use with Seaborn\n",
    "lgd = dict({0:'Survived',1:'Died'})\n",
    "df['Survived'] = df['hospital_death'].map(lgd)"
   ]
  },
  {
   "cell_type": "code",
   "execution_count": 8,
   "metadata": {},
   "outputs": [
    {
     "data": {
      "text/plain": [
       "d1_temp_min                209\n",
       "h1_hco3_max                214\n",
       "d1_hco3_max                223\n",
       "d1_sysbp_invasive_max      225\n",
       "icu_id                     241\n",
       "                         ...  \n",
       "pre_icu_los_days          9757\n",
       "urineoutput_apache       24772\n",
       "bmi                      34888\n",
       "patient_id               91713\n",
       "encounter_id             91713\n",
       "Length: 78, dtype: int64"
      ]
     },
     "execution_count": 8,
     "metadata": {},
     "output_type": "execute_result"
    }
   ],
   "source": [
    "# Look through the data for number of unique values. \n",
    "vals = df.nunique()\n",
    "vals[vals < 3]\n",
    "vals[(vals > 2) & (vals < 10)]\n",
    "vals[(vals > 10) & (vals < 200)]\n",
    "vals[vals > 200].sort_values()"
   ]
  },
  {
   "cell_type": "markdown",
   "metadata": {},
   "source": [
    "####  Unique values at a df level aren't super helpful here as many patients will have their own values . Let's look at columns with null data. "
   ]
  },
  {
   "cell_type": "code",
   "execution_count": 9,
   "metadata": {},
   "outputs": [
    {
     "data": {
      "text/html": [
       "<div>\n",
       "<style scoped>\n",
       "    .dataframe tbody tr th:only-of-type {\n",
       "        vertical-align: middle;\n",
       "    }\n",
       "\n",
       "    .dataframe tbody tr th {\n",
       "        vertical-align: top;\n",
       "    }\n",
       "\n",
       "    .dataframe thead th {\n",
       "        text-align: right;\n",
       "    }\n",
       "</style>\n",
       "<table border=\"1\" class=\"dataframe\">\n",
       "  <thead>\n",
       "    <tr style=\"text-align: right;\">\n",
       "      <th></th>\n",
       "      <th>percent</th>\n",
       "    </tr>\n",
       "  </thead>\n",
       "  <tbody>\n",
       "    <tr>\n",
       "      <th>wbc_apache</th>\n",
       "      <td>0.240010</td>\n",
       "    </tr>\n",
       "    <tr>\n",
       "      <th>h1_temp_max</th>\n",
       "      <td>0.236957</td>\n",
       "    </tr>\n",
       "    <tr>\n",
       "      <th>h1_temp_min</th>\n",
       "      <td>0.236957</td>\n",
       "    </tr>\n",
       "    <tr>\n",
       "      <th>hospital_admit_source</th>\n",
       "      <td>0.233435</td>\n",
       "    </tr>\n",
       "    <tr>\n",
       "      <th>hematocrit_apache</th>\n",
       "      <td>0.216741</td>\n",
       "    </tr>\n",
       "    <tr>\n",
       "      <th>bun_apache</th>\n",
       "      <td>0.210025</td>\n",
       "    </tr>\n",
       "    <tr>\n",
       "      <th>creatinine_apache</th>\n",
       "      <td>0.205565</td>\n",
       "    </tr>\n",
       "    <tr>\n",
       "      <th>sodium_apache</th>\n",
       "      <td>0.202807</td>\n",
       "    </tr>\n",
       "  </tbody>\n",
       "</table>\n",
       "</div>"
      ],
      "text/plain": [
       "                        percent\n",
       "wbc_apache             0.240010\n",
       "h1_temp_max            0.236957\n",
       "h1_temp_min            0.236957\n",
       "hospital_admit_source  0.233435\n",
       "hematocrit_apache      0.216741\n",
       "bun_apache             0.210025\n",
       "creatinine_apache      0.205565\n",
       "sodium_apache          0.202807"
      ]
     },
     "execution_count": 9,
     "metadata": {},
     "output_type": "execute_result"
    }
   ],
   "source": [
    "nas=pd.DataFrame(df.isnull().sum().sort_values(ascending=False)/len(df),columns = ['percent'])\n",
    "pos = (nas['percent'] >= 0.2) & (nas['percent'] < 0.3)\n",
    "nas[pos]"
   ]
  },
  {
   "cell_type": "markdown",
   "metadata": {},
   "source": [
    "#### Look for columns that are mostly empty\n",
    "\n",
    ">90%     : bilirubin, lactate, albumin\n",
    "<br/> 80 - 90% : h1_pao2fio2ratio, arterial_ph, hco3, arterial pco2, wbc, arterial_po2, calcium, platelets,bun, creatinine, diasbp_invasive, sysbp_invasive, mbp, invasive, hematocrit\n",
    "<br/> 70 - 80% : hemaglobin, sodium, potassium, ph_apache, pao2_apache, paco2_for_ph_apache, fio2_apache, paco2_apache, diasbp_invasive, sysbp_invasive, mbp_invasive, d1_pao2fio2ratio\n",
    "<br/> ** Note ** all of the apache scores have the same missing values\n",
    "<br/> 60 - 70% : arterial_ph, arterial_pco2, arterial_po2, bilirubin_apache, inr both h1 and d1\n",
    "<br/> 50 - 60% : albumin_apache, bilirubin, glucose, albumin, urineoutput_apache\n",
    "<br/> 30 - 50% : no columns\n",
    "<br/> 20 - 30% : wbc_apache, temp, hosptial_admit_source, hematocrit_apache, bun_apache, creatinine_apache, sodium_apache\n",
    "<br/> 10 - 20% : all d1 vitals: hco3, platelets, wbc, calcium, hemaglobin, hematocrit, glucose apache, bun, sodium, creatininte, potassium"
   ]
  },
  {
   "cell_type": "markdown",
   "metadata": {},
   "source": [
    "####  Empty columns can be grouped\n",
    "\n",
    "* Top missing data is from h1_vitals. Here 'h1' means it was taken during their first hour in the stay. 'd1' is during the first 24 hours. \n",
    "    - It could be intersting to look if the patients have both h1 and d1, which may mean two measurements. Check if they are the same. \n",
    "    - It could also be that some hospitals take vitals within the hour or that having an h1 score at all means a condition is more serious\n",
    "\n",
    "* Invasive measures and lab blood gas are also typically missing. THis makes sense and is probably only required for certain conditions.\n",
    "\n"
   ]
  },
  {
   "cell_type": "code",
   "execution_count": 10,
   "metadata": {},
   "outputs": [
    {
     "name": "stdout",
     "output_type": "stream",
     "text": [
      "['identifier' 'demographic' 'APACHE covariate' 'vitals' 'labs'\n",
      " 'labs blood gas' 'APACHE prediction' 'APACHE comorbidity'\n",
      " 'APACHE grouping' 'GOSSIS example prediction']\n"
     ]
    }
   ],
   "source": [
    "# Use the categories from the provided dictionary to look at the data in groups\n",
    "categories = pd.read_csv(os.path.join(filepath,'WiDS Datathon 2020 Dictionary.csv'))\n",
    "print(categories['Category'].unique())\n",
    "\n",
    "identifier = categories[categories['Category']=='identifier']['Variable Name'].tolist()\n",
    "demographic = categories[categories['Category']=='demographic']['Variable Name'].tolist()\n",
    "\n",
    "# Fix error in demographic. It includes 'icu_admit_type' which is not in the table\n",
    "demographic.remove('icu_admit_type')\n",
    "\n",
    "Acov = categories[categories['Category']=='APACHE covariate']['Variable Name'].tolist()\n",
    "vitals = categories[categories['Category']=='vitals']['Variable Name'].tolist()\n",
    "\n",
    "labs = categories[categories['Category']=='labs']['Variable Name'].tolist()\n",
    "lab_bg = categories[categories['Category']=='lab blood gas']['Variable Name'].tolist()\n",
    "\n",
    "Apredict = categories[categories['Category']=='APACHE prediction']['Variable Name'].tolist()\n",
    "Acom = categories[categories['Category']=='APACHE comorbidity']['Variable Name'].tolist()\n",
    "\n",
    "Agroup = categories[categories['Category']=='APACHE group']['Variable Name'].tolist()\n",
    "GOSSIS = categories[categories['Category']=='GOSSIS example prediction']['Variable Name'].tolist()\n"
   ]
  },
  {
   "cell_type": "code",
   "execution_count": 11,
   "metadata": {},
   "outputs": [],
   "source": [
    "# df[demographic]"
   ]
  },
  {
   "cell_type": "code",
   "execution_count": 12,
   "metadata": {},
   "outputs": [
    {
     "data": {
      "text/html": [
       "<div>\n",
       "<style scoped>\n",
       "    .dataframe tbody tr th:only-of-type {\n",
       "        vertical-align: middle;\n",
       "    }\n",
       "\n",
       "    .dataframe tbody tr th {\n",
       "        vertical-align: top;\n",
       "    }\n",
       "\n",
       "    .dataframe thead th {\n",
       "        text-align: right;\n",
       "    }\n",
       "</style>\n",
       "<table border=\"1\" class=\"dataframe\">\n",
       "  <thead>\n",
       "    <tr style=\"text-align: right;\">\n",
       "      <th></th>\n",
       "      <th>count</th>\n",
       "      <th>mean</th>\n",
       "      <th>std</th>\n",
       "      <th>min</th>\n",
       "      <th>25%</th>\n",
       "      <th>50%</th>\n",
       "      <th>75%</th>\n",
       "      <th>max</th>\n",
       "    </tr>\n",
       "  </thead>\n",
       "  <tbody>\n",
       "    <tr>\n",
       "      <th>hospital_death</th>\n",
       "      <td>91713.0</td>\n",
       "      <td>0.086302</td>\n",
       "      <td>0.280811</td>\n",
       "      <td>0.000000</td>\n",
       "      <td>0.000000</td>\n",
       "      <td>0.000000</td>\n",
       "      <td>0.000000</td>\n",
       "      <td>1.000000</td>\n",
       "    </tr>\n",
       "    <tr>\n",
       "      <th>age</th>\n",
       "      <td>87485.0</td>\n",
       "      <td>62.309516</td>\n",
       "      <td>16.775119</td>\n",
       "      <td>16.000000</td>\n",
       "      <td>52.000000</td>\n",
       "      <td>65.000000</td>\n",
       "      <td>75.000000</td>\n",
       "      <td>89.000000</td>\n",
       "    </tr>\n",
       "    <tr>\n",
       "      <th>bmi</th>\n",
       "      <td>88284.0</td>\n",
       "      <td>29.185818</td>\n",
       "      <td>8.275142</td>\n",
       "      <td>14.844926</td>\n",
       "      <td>23.641975</td>\n",
       "      <td>27.654655</td>\n",
       "      <td>32.930206</td>\n",
       "      <td>67.814990</td>\n",
       "    </tr>\n",
       "    <tr>\n",
       "      <th>elective_surgery</th>\n",
       "      <td>91713.0</td>\n",
       "      <td>0.183736</td>\n",
       "      <td>0.387271</td>\n",
       "      <td>0.000000</td>\n",
       "      <td>0.000000</td>\n",
       "      <td>0.000000</td>\n",
       "      <td>0.000000</td>\n",
       "      <td>1.000000</td>\n",
       "    </tr>\n",
       "    <tr>\n",
       "      <th>height</th>\n",
       "      <td>90379.0</td>\n",
       "      <td>169.641588</td>\n",
       "      <td>10.795378</td>\n",
       "      <td>137.200000</td>\n",
       "      <td>162.500000</td>\n",
       "      <td>170.100000</td>\n",
       "      <td>177.800000</td>\n",
       "      <td>195.590000</td>\n",
       "    </tr>\n",
       "    <tr>\n",
       "      <th>icu_id</th>\n",
       "      <td>91713.0</td>\n",
       "      <td>508.357692</td>\n",
       "      <td>228.989661</td>\n",
       "      <td>82.000000</td>\n",
       "      <td>369.000000</td>\n",
       "      <td>504.000000</td>\n",
       "      <td>679.000000</td>\n",
       "      <td>927.000000</td>\n",
       "    </tr>\n",
       "    <tr>\n",
       "      <th>pre_icu_los_days</th>\n",
       "      <td>91713.0</td>\n",
       "      <td>0.835766</td>\n",
       "      <td>2.487756</td>\n",
       "      <td>-24.947222</td>\n",
       "      <td>0.035417</td>\n",
       "      <td>0.138889</td>\n",
       "      <td>0.409028</td>\n",
       "      <td>159.090972</td>\n",
       "    </tr>\n",
       "    <tr>\n",
       "      <th>readmission_status</th>\n",
       "      <td>91713.0</td>\n",
       "      <td>0.000000</td>\n",
       "      <td>0.000000</td>\n",
       "      <td>0.000000</td>\n",
       "      <td>0.000000</td>\n",
       "      <td>0.000000</td>\n",
       "      <td>0.000000</td>\n",
       "      <td>0.000000</td>\n",
       "    </tr>\n",
       "    <tr>\n",
       "      <th>weight</th>\n",
       "      <td>88993.0</td>\n",
       "      <td>84.028340</td>\n",
       "      <td>25.011497</td>\n",
       "      <td>38.600000</td>\n",
       "      <td>66.800000</td>\n",
       "      <td>80.300000</td>\n",
       "      <td>97.100000</td>\n",
       "      <td>186.000000</td>\n",
       "    </tr>\n",
       "  </tbody>\n",
       "</table>\n",
       "</div>"
      ],
      "text/plain": [
       "                      count        mean         std         min         25%  \\\n",
       "hospital_death      91713.0    0.086302    0.280811    0.000000    0.000000   \n",
       "age                 87485.0   62.309516   16.775119   16.000000   52.000000   \n",
       "bmi                 88284.0   29.185818    8.275142   14.844926   23.641975   \n",
       "elective_surgery    91713.0    0.183736    0.387271    0.000000    0.000000   \n",
       "height              90379.0  169.641588   10.795378  137.200000  162.500000   \n",
       "icu_id              91713.0  508.357692  228.989661   82.000000  369.000000   \n",
       "pre_icu_los_days    91713.0    0.835766    2.487756  -24.947222    0.035417   \n",
       "readmission_status  91713.0    0.000000    0.000000    0.000000    0.000000   \n",
       "weight              88993.0   84.028340   25.011497   38.600000   66.800000   \n",
       "\n",
       "                           50%         75%         max  \n",
       "hospital_death        0.000000    0.000000    1.000000  \n",
       "age                  65.000000   75.000000   89.000000  \n",
       "bmi                  27.654655   32.930206   67.814990  \n",
       "elective_surgery      0.000000    0.000000    1.000000  \n",
       "height              170.100000  177.800000  195.590000  \n",
       "icu_id              504.000000  679.000000  927.000000  \n",
       "pre_icu_los_days      0.138889    0.409028  159.090972  \n",
       "readmission_status    0.000000    0.000000    0.000000  \n",
       "weight               80.300000   97.100000  186.000000  "
      ]
     },
     "execution_count": 12,
     "metadata": {},
     "output_type": "execute_result"
    }
   ],
   "source": [
    "# Look at summary statistics for each grouping\n",
    "df[demographic].describe().T"
   ]
  },
  {
   "cell_type": "code",
   "execution_count": 13,
   "metadata": {},
   "outputs": [
    {
     "data": {
      "text/html": [
       "<div>\n",
       "<style scoped>\n",
       "    .dataframe tbody tr th:only-of-type {\n",
       "        vertical-align: middle;\n",
       "    }\n",
       "\n",
       "    .dataframe tbody tr th {\n",
       "        vertical-align: top;\n",
       "    }\n",
       "\n",
       "    .dataframe thead th {\n",
       "        text-align: right;\n",
       "    }\n",
       "</style>\n",
       "<table border=\"1\" class=\"dataframe\">\n",
       "  <thead>\n",
       "    <tr style=\"text-align: right;\">\n",
       "      <th></th>\n",
       "      <th>percent</th>\n",
       "    </tr>\n",
       "  </thead>\n",
       "  <tbody>\n",
       "    <tr>\n",
       "      <th>hospital_admit_source</th>\n",
       "      <td>0.233435</td>\n",
       "    </tr>\n",
       "    <tr>\n",
       "      <th>age</th>\n",
       "      <td>0.046100</td>\n",
       "    </tr>\n",
       "    <tr>\n",
       "      <th>bmi</th>\n",
       "      <td>0.037388</td>\n",
       "    </tr>\n",
       "    <tr>\n",
       "      <th>weight</th>\n",
       "      <td>0.029658</td>\n",
       "    </tr>\n",
       "    <tr>\n",
       "      <th>ethnicity</th>\n",
       "      <td>0.015210</td>\n",
       "    </tr>\n",
       "    <tr>\n",
       "      <th>height</th>\n",
       "      <td>0.014545</td>\n",
       "    </tr>\n",
       "    <tr>\n",
       "      <th>icu_admit_source</th>\n",
       "      <td>0.001221</td>\n",
       "    </tr>\n",
       "    <tr>\n",
       "      <th>gender</th>\n",
       "      <td>0.000273</td>\n",
       "    </tr>\n",
       "    <tr>\n",
       "      <th>readmission_status</th>\n",
       "      <td>0.000000</td>\n",
       "    </tr>\n",
       "    <tr>\n",
       "      <th>pre_icu_los_days</th>\n",
       "      <td>0.000000</td>\n",
       "    </tr>\n",
       "    <tr>\n",
       "      <th>icu_type</th>\n",
       "      <td>0.000000</td>\n",
       "    </tr>\n",
       "    <tr>\n",
       "      <th>icu_stay_type</th>\n",
       "      <td>0.000000</td>\n",
       "    </tr>\n",
       "    <tr>\n",
       "      <th>icu_id</th>\n",
       "      <td>0.000000</td>\n",
       "    </tr>\n",
       "    <tr>\n",
       "      <th>elective_surgery</th>\n",
       "      <td>0.000000</td>\n",
       "    </tr>\n",
       "    <tr>\n",
       "      <th>hospital_death</th>\n",
       "      <td>0.000000</td>\n",
       "    </tr>\n",
       "  </tbody>\n",
       "</table>\n",
       "</div>"
      ],
      "text/plain": [
       "                        percent\n",
       "hospital_admit_source  0.233435\n",
       "age                    0.046100\n",
       "bmi                    0.037388\n",
       "weight                 0.029658\n",
       "ethnicity              0.015210\n",
       "height                 0.014545\n",
       "icu_admit_source       0.001221\n",
       "gender                 0.000273\n",
       "readmission_status     0.000000\n",
       "pre_icu_los_days       0.000000\n",
       "icu_type               0.000000\n",
       "icu_stay_type          0.000000\n",
       "icu_id                 0.000000\n",
       "elective_surgery       0.000000\n",
       "hospital_death         0.000000"
      ]
     },
     "execution_count": 13,
     "metadata": {},
     "output_type": "execute_result"
    }
   ],
   "source": [
    "# Check outliers\n",
    "test_df = df[demographic]\n",
    "nas=pd.DataFrame(test_df.isnull().sum().sort_values(ascending=False)/len(test_df),columns = ['percent'])\n",
    "pos = (nas['percent'] >= 0)\n",
    "nas[pos]"
   ]
  },
  {
   "cell_type": "markdown",
   "metadata": {},
   "source": [
    "### Start collecting data for first save file\n",
    "\n",
    "* Keep identifier data. \n",
    "* Address NaN in demogrpahic data\n",
    "* Keep and address data in APACHE grouping and GOSSIS"
   ]
  },
  {
   "cell_type": "code",
   "execution_count": 14,
   "metadata": {},
   "outputs": [
    {
     "data": {
      "text/plain": [
       "(91713, 186)"
      ]
     },
     "execution_count": 14,
     "metadata": {},
     "output_type": "execute_result"
    }
   ],
   "source": [
    "# Keep identifier data. \n",
    "\n",
    "# Recall from above that both encounter_id and patient_id are unique identifiers. Drop one. \n",
    "df = df.drop(columns = ['encounter_id'])\n",
    "df.shape"
   ]
  },
  {
   "cell_type": "markdown",
   "metadata": {},
   "source": [
    "### Address Demographic NaN\n",
    "\n",
    "* hospital_admit_source (23%) and icu_admit_source (0.1%)\n",
    "    - icu_admit_score seems to hold better keyed data with the majority of missing hospital_admit_data in 1 of 3 buckets. \n",
    "* numeric: age, bmi, weight, height \n",
    "* categorical: ethnicity, gender"
   ]
  },
  {
   "cell_type": "code",
   "execution_count": 15,
   "metadata": {},
   "outputs": [
    {
     "data": {
      "text/plain": [
       "Observation_Accident & Emergency                 1\n",
       "Other_Operating Room / Recovery                  1\n",
       "Other_Accident & Emergency                       1\n",
       "ICU_Other Hospital                               1\n",
       "PACU_Other ICU                                   2\n",
       "                                             ...  \n",
       "Direct Admit_Accident & Emergency             5749\n",
       "Floor_Floor                                   7471\n",
       "Operating Room_Operating Room / Recovery      9447\n",
       "Empty_Accident & Emergency                   12677\n",
       "Emergency Department_Accident & Emergency    35193\n",
       "Length: 70, dtype: int64"
      ]
     },
     "execution_count": 15,
     "metadata": {},
     "output_type": "execute_result"
    }
   ],
   "source": [
    "df['hospital_admit_source'].fillna('Empty',inplace=True)\n",
    "check_combo = df['hospital_admit_source'] + '_' + df['icu_admit_source']\n",
    "check_combo.value_counts(ascending=True)"
   ]
  },
  {
   "cell_type": "code",
   "execution_count": 16,
   "metadata": {},
   "outputs": [
    {
     "data": {
      "text/plain": [
       "Accident & Emergency         12677\n",
       "Floor                         4115\n",
       "Operating Room / Recovery     3670\n",
       "Other Hospital                 671\n",
       "Other ICU                      165\n",
       "Name: icu_admit_source, dtype: int64"
      ]
     },
     "execution_count": 16,
     "metadata": {},
     "output_type": "execute_result"
    }
   ],
   "source": [
    "df[df['hospital_admit_source'] == 'Empty']['icu_admit_source'].value_counts()"
   ]
  },
  {
   "cell_type": "markdown",
   "metadata": {},
   "source": [
    "#### Numeric: Age, BMI, Weight, Height"
   ]
  },
  {
   "cell_type": "code",
   "execution_count": 17,
   "metadata": {},
   "outputs": [
    {
     "name": "stderr",
     "output_type": "stream",
     "text": [
      "/Users/maureenkeenan/anaconda3/lib/python3.7/site-packages/numpy/lib/histograms.py:839: RuntimeWarning: invalid value encountered in greater_equal\n",
      "  keep = (tmp_a >= first_edge)\n",
      "/Users/maureenkeenan/anaconda3/lib/python3.7/site-packages/numpy/lib/histograms.py:840: RuntimeWarning: invalid value encountered in less_equal\n",
      "  keep &= (tmp_a <= last_edge)\n"
     ]
    },
    {
     "data": {
      "image/png": "[encoded data removed]",
      "text/plain": [
       "<Figure size 576x396 with 4 Axes>"
      ]
     },
     "metadata": {},
     "output_type": "display_data"
    }
   ],
   "source": [
    "# Plot age, bmi, weight, height as histograms\n",
    "fig = plt.figure()\n",
    "\n",
    "plt.subplot(2, 2, 1)\n",
    "plt.hist(df['age'], bins= 20)\n",
    "plt.axvline(df['age'].mean(), color='k', linestyle='dashed', linewidth=1)\n",
    "plt.title('Age')\n",
    "\n",
    "plt.subplot(2, 2, 2)\n",
    "plt.hist(df['bmi'], bins= 20)\n",
    "plt.axvline(df['bmi'].mean(), color='k', linestyle='dashed', linewidth=1)\n",
    "plt.title('BMI')\n",
    "\n",
    "plt.subplot(2, 2, 3)\n",
    "plt.hist(df['weight'], bins= 20)\n",
    "plt.axvline(df['weight'].mean(), color='k', linestyle='dashed', linewidth=1)\n",
    "plt.title('Weight')\n",
    "\n",
    "plt.subplot(2, 2, 4)\n",
    "plt.hist(df['height'], bins= 20)\n",
    "plt.axvline(df['height'].mean(), color='k', linestyle='dashed', linewidth=1)\n",
    "plt.title('Height')\n",
    "\n",
    "plt.show()\n",
    "\n",
    "# Error is from nan in data. Leave it for now. "
   ]
  },
  {
   "cell_type": "code",
   "execution_count": 18,
   "metadata": {},
   "outputs": [
    {
     "data": {
      "text/plain": [
       "median    65.000000\n",
       "mean      62.309516\n",
       "Name: age, dtype: float64"
      ]
     },
     "execution_count": 18,
     "metadata": {},
     "output_type": "execute_result"
    }
   ],
   "source": [
    "df['age'].agg([np.median,np.mean])"
   ]
  },
  {
   "cell_type": "markdown",
   "metadata": {},
   "source": [
    "#### Ethnicity (1.5% missing) and Gender (.02% missing)\n",
    "* Replace ethnicity with most likely\n",
    "    - Caucasian is by far the most represented ethnicity. But it is not the highest to pass. Look into this further.\n",
    "* Drop rows missing gender"
   ]
  },
  {
   "cell_type": "code",
   "execution_count": 19,
   "metadata": {},
   "outputs": [
    {
     "name": "stdout",
     "output_type": "stream",
     "text": [
      "                  count   sum\n",
      "ethnicity                    \n",
      "African American   9547   750\n",
      "Asian              1129    93\n",
      "Caucasian         70684  6168\n",
      "Hispanic           3796   376\n",
      "Native American     788    70\n",
      "Other/Unknown      4374   353\n"
     ]
    },
    {
     "data": {
      "image/png": "[encoded data removed]",
      "text/plain": [
       "<Figure size 576x396 with 1 Axes>"
      ]
     },
     "metadata": {},
     "output_type": "display_data"
    }
   ],
   "source": [
    "# This is probably where pivot_table and melting is useful. But easier for now to make a separate dataframe.\n",
    "df_et = df.groupby('ethnicity').hospital_death.agg(['count','sum'])\n",
    "print(df_et)\n",
    "df_et['percent'] = df_et.iloc[:,1]/df_et.iloc[:,0]*100\n",
    "df_et['percent'].plot(kind='bar')\n",
    "plt.show()"
   ]
  },
  {
   "cell_type": "markdown",
   "metadata": {},
   "source": [
    "### Address NaN - \n",
    "\n",
    "* hospital_admit_source (23%) and icu_admit_source (0.1%)\n",
    "    - Drop hospital_admit_source and drop row with missing icu_admit source\n",
    "* numeric: age, bmi, weight, height \n",
    "    - NaN are replaced. Take full columns into df_out\n",
    "* categorical: ethnicity, gender\n",
    "    - Replace missing ethnicity, drop missing gender"
   ]
  },
  {
   "cell_type": "code",
   "execution_count": 20,
   "metadata": {},
   "outputs": [],
   "source": [
    "# Drop hospital_admit_source \n",
    "df = df.drop(columns = ['hospital_admit_source'])\n",
    "\n",
    "# Drop row with missing icu_admit\n",
    "df = df.dropna(subset = ['icu_admit_source'],axis=0)"
   ]
  },
  {
   "cell_type": "code",
   "execution_count": 21,
   "metadata": {},
   "outputs": [],
   "source": [
    "# Replace NA\n",
    "# Replace Age with mean\n",
    "df['age'] = df['age'].fillna(df['age'].mean(skipna =True))\n",
    "\n",
    "# Replace BMI with median\n",
    "df['bmi'] = df['bmi'].fillna(df['bmi'].median(skipna =True))\n",
    "\n",
    "# Replace Weight with median\n",
    "df['weight'] = df['weight'].fillna(df['weight'].median(skipna =True))\n",
    "\n",
    "# Replace Height with mean\n",
    "df['height'] = df['height'].fillna(df['height'].mean(skipna =True))"
   ]
  },
  {
   "cell_type": "code",
   "execution_count": 22,
   "metadata": {},
   "outputs": [
    {
     "data": {
      "text/plain": [
       "(91576, 185)"
      ]
     },
     "execution_count": 22,
     "metadata": {},
     "output_type": "execute_result"
    }
   ],
   "source": [
    "# Replace ethnicity with most common\n",
    "df['ethnicity'] = df['ethnicity'].fillna('Caucasian')\n",
    "\n",
    "# Drop rows missing gender\n",
    "df = df.dropna(subset = ['gender'],axis=0)\n",
    "df.shape"
   ]
  },
  {
   "cell_type": "markdown",
   "metadata": {},
   "source": [
    "### Apache\n",
    "\n",
    "* Apache 4\n",
    "    * Apache 4 still has missing data in both 'apache_4a_icu_death_prob' and 'apache_4a_hospital_death_prob'\n",
    "    * Apache 4 has >2000 cases of probability = -1. -1 does not necessarily mean survive or not. However! icu and hospital have different places they are -1. \n",
    "* Apache 3\n",
    "    * Appears twice - bodysystem (category) and diagnosis (numeric)\n",
    "* Apache 2\n",
    "    * Appears twice - bodysystem (category) and diagnosis (numeric)  "
   ]
  },
  {
   "cell_type": "code",
   "execution_count": 23,
   "metadata": {},
   "outputs": [
    {
     "data": {
      "text/plain": [
       "2145"
      ]
     },
     "execution_count": 23,
     "metadata": {},
     "output_type": "execute_result"
    }
   ],
   "source": [
    "df[df['apache_4a_icu_death_prob'] == -1]['hospital_death'].count()"
   ]
  },
  {
   "cell_type": "code",
   "execution_count": 24,
   "metadata": {},
   "outputs": [
    {
     "data": {
      "image/png": "[encoded data removed]",
      "text/plain": [
       "<Figure size 576x396 with 1 Axes>"
      ]
     },
     "metadata": {},
     "output_type": "display_data"
    }
   ],
   "source": [
    "# Look at Apache\n",
    "plt.scatter(df.apache_4a_icu_death_prob, df.apache_4a_hospital_death_prob)\n",
    "plt.xlabel('apache_4a_icu_death_prob')\n",
    "plt.ylabel('apache_4a_hospital_death_prob')\n",
    "plt.show()"
   ]
  },
  {
   "cell_type": "code",
   "execution_count": 25,
   "metadata": {},
   "outputs": [],
   "source": [
    "# Replace these two columns that are highly correlated with an average. If one value is -1, use only the other value. If both values are -1, set to NaN. \n",
    "apache_4 = []\n",
    "\n",
    "for i in range(len(df)):\n",
    "    \n",
    "    if (df.iloc[i]['apache_4a_icu_death_prob'] == -1):\n",
    "        apache_4.append(df.iloc[i]['apache_4a_hospital_death_prob'])\n",
    "        \n",
    "    elif (df.iloc[i]['apache_4a_hospital_death_prob'] == -1):\n",
    "        apache_4.append(df.iloc[i]['apache_4a_icu_death_prob'])\n",
    "        \n",
    "    else:\n",
    "        apache_4.append(np.mean((df.iloc[i]['apache_4a_icu_death_prob'],df.iloc[i]['apache_4a_hospital_death_prob'])))"
   ]
  },
  {
   "cell_type": "code",
   "execution_count": 26,
   "metadata": {},
   "outputs": [],
   "source": [
    "# Make a new column...\n",
    "df['apache4'] = apache_4\n",
    "\n",
    "#...and drop the other ones\n",
    "df = df.drop(columns = ['apache_4a_hospital_death_prob','apache_4a_icu_death_prob'])"
   ]
  },
  {
   "cell_type": "markdown",
   "metadata": {},
   "source": [
    "#### Check the distributions of the apache4.\n",
    "\n",
    "* Our '-1' follows the same trend as the data. I can't set it to 0 because that would change the probability of surviving from 0.3 to 3%. Instead, setting it 9% (and then adding that data into the exisitn 9% data) doesn't change. \n",
    "* The mean is close (affected by the -1) and easier to do on the test set. Set 'NA' and '-1' to mean of Apache4. "
   ]
  },
  {
   "cell_type": "code",
   "execution_count": 27,
   "metadata": {},
   "outputs": [
    {
     "name": "stdout",
     "output_type": "stream",
     "text": [
      "Apache4 = -1 sum     168\n",
      "len    1824\n",
      "Name: hospital_death, dtype: int64\n",
      "Apache4 = 0 sum     85\n",
      "len    979\n",
      "Name: hospital_death, dtype: int64\n"
     ]
    }
   ],
   "source": [
    "# Well that didn't do much. Fixed  321 rows. \n",
    "print('Apache4 = -1', df[df['apache4'] == -1]['hospital_death'].agg([sum,len]))\n",
    "print('Apache4 = 0', df[df['apache4'] == 0.09]['hospital_death'].agg([sum,len]))"
   ]
  },
  {
   "cell_type": "code",
   "execution_count": 28,
   "metadata": {},
   "outputs": [
    {
     "name": "stdout",
     "output_type": "stream",
     "text": [
      "Apache 4 = -1 died 9.210526315789473\n",
      "Apache 4 = 0 died 8.682328907048008\n",
      "Apache 4 = 0 died 9.026043524794861\n",
      "0.07146295255969973\n"
     ]
    }
   ],
   "source": [
    "# Comparing data\n",
    "print('Apache 4 = -1 died' , 168/1824*100)\n",
    "print('Apache 4 = 0 died' , 85/979*100)\n",
    "print('Apache 4 = 0 died' , (168+85)/(1824+979)*100)\n",
    "print(df['apache4'].mean())"
   ]
  },
  {
   "cell_type": "code",
   "execution_count": 40,
   "metadata": {},
   "outputs": [
    {
     "data": {
      "text/plain": [
       "0.0"
      ]
     },
     "execution_count": 40,
     "metadata": {},
     "output_type": "execute_result"
    }
   ],
   "source": [
    "# Set the mean and then change both -1 and NaN to the same value...\n",
    "fillVal = df['apache4'].mean()\n",
    "# First fillNA\n",
    "df['apache4'] = df['apache4'].fillna(fillVal)\n",
    "# Then update -1\n",
    "df['apache4'] = df['apache4'].replace(-1, fillVal)\n",
    "min(df['apache4'])"
   ]
  },
  {
   "cell_type": "markdown",
   "metadata": {},
   "source": [
    "#### Apache 3 and 2\n",
    "* Have both a Bodysystem (category) and diagnosis (numeric)"
   ]
  },
  {
   "cell_type": "code",
   "execution_count": 30,
   "metadata": {},
   "outputs": [
    {
     "data": {
      "text/plain": [
       "Cardiovascular          29950\n",
       "Neurological            11888\n",
       "Sepsis                  11726\n",
       "Respiratory             11595\n",
       "Gastrointestinal         9015\n",
       "Metabolic                7638\n",
       "Trauma                   3833\n",
       "Genitourinary            2168\n",
       "NaN                      1646\n",
       "Musculoskeletal/Skin     1166\n",
       "Hematological             638\n",
       "Gynecological             313\n",
       "Name: apache_3j_bodysystem, dtype: int64"
      ]
     },
     "execution_count": 30,
     "metadata": {},
     "output_type": "execute_result"
    }
   ],
   "source": [
    "df['apache_3j_bodysystem'].value_counts(dropna=False)"
   ]
  },
  {
   "cell_type": "code",
   "execution_count": 31,
   "metadata": {},
   "outputs": [
    {
     "data": {
      "text/plain": [
       "mean     558.432001\n",
       "max     2201.050000\n",
       "min        0.010000\n",
       "Name: apache_3j_diagnosis, dtype: float64"
      ]
     },
     "execution_count": 31,
     "metadata": {},
     "output_type": "execute_result"
    }
   ],
   "source": [
    "df['apache_3j_diagnosis'].agg([np.mean,max, min])"
   ]
  },
  {
   "cell_type": "code",
   "execution_count": 32,
   "metadata": {},
   "outputs": [
    {
     "data": {
      "text/plain": [
       "Cardiovascular         38753\n",
       "Neurologic             11888\n",
       "Respiratory            11595\n",
       "Gastrointestinal        9015\n",
       "Metabolic               7638\n",
       "Trauma                  3833\n",
       "Undefined diagnoses     3767\n",
       "Renal/Genitourinary     2457\n",
       "NaN                     1646\n",
       "Haematologic             638\n",
       "Undefined Diagnoses      346\n",
       "Name: apache_2_bodysystem, dtype: int64"
      ]
     },
     "execution_count": 32,
     "metadata": {},
     "output_type": "execute_result"
    }
   ],
   "source": [
    "df['apache_2_bodysystem'].value_counts(dropna=False)"
   ]
  },
  {
   "cell_type": "code",
   "execution_count": 33,
   "metadata": {},
   "outputs": [
    {
     "data": {
      "text/plain": [
       "mean    185.414089\n",
       "max     308.000000\n",
       "min     101.000000\n",
       "Name: apache_2_diagnosis, dtype: float64"
      ]
     },
     "execution_count": 33,
     "metadata": {},
     "output_type": "execute_result"
    }
   ],
   "source": [
    "df['apache_2_diagnosis'].agg([np.mean,max, min])"
   ]
  },
  {
   "cell_type": "code",
   "execution_count": 41,
   "metadata": {},
   "outputs": [
    {
     "data": {
      "image/png": "[encoded data removed]",
      "text/plain": [
       "<Figure size 615x540 with 9 Axes>"
      ]
     },
     "metadata": {},
     "output_type": "display_data"
    }
   ],
   "source": [
    "import seaborn as sns\n",
    "g = sns.pairplot(df, vars=['apache_2_diagnosis','apache_3j_diagnosis','apache4'],hue='Survived',corner=True)"
   ]
  },
  {
   "cell_type": "code",
   "execution_count": 53,
   "metadata": {},
   "outputs": [
    {
     "data": {
      "text/plain": [
       "44       NaN\n",
       "83       NaN\n",
       "136      NaN\n",
       "218      NaN\n",
       "255      NaN\n",
       "        ... \n",
       "91597    NaN\n",
       "91625    NaN\n",
       "91689    NaN\n",
       "91693    NaN\n",
       "91707    NaN\n",
       "Name: apache_3j_bodysystem, Length: 1646, dtype: object"
      ]
     },
     "execution_count": 53,
     "metadata": {},
     "output_type": "execute_result"
    }
   ],
   "source": [
    "df[df['apache_2_diagnosis'].isna()]['apache_3j_bodysystem']"
   ]
  },
  {
   "cell_type": "code",
   "execution_count": 54,
   "metadata": {},
   "outputs": [
    {
     "data": {
      "text/plain": [
       "(89930, 184)"
      ]
     },
     "execution_count": 54,
     "metadata": {},
     "output_type": "execute_result"
    }
   ],
   "source": [
    "# Drop rows where apache 2 and 3 are missing..there is also missing data in other columns\n",
    "# Drop rows missing gender\n",
    "df = df.dropna(subset = ['apache_2_diagnosis'],axis=0)\n",
    "df.shape\n"
   ]
  },
  {
   "cell_type": "markdown",
   "metadata": {},
   "source": [
    "### Save the df. \n",
    "\n",
    "#### Leave vitals and other sections as is for now. They have a lot of NaN but they can be dropped or used to make new features next. "
   ]
  },
  {
   "cell_type": "code",
   "execution_count": 61,
   "metadata": {},
   "outputs": [],
   "source": [
    "savepath = os.path.join(maindir,'data/interim')\n",
    "df.to_csv(os.path.join(savepath,'TrainingData_Cleaned.csv'))"
   ]
  }
 ],
 "metadata": {
  "kernelspec": {
   "display_name": "Python 3",
   "language": "python",
   "name": "python3"
  },
  "language_info": {
   "codemirror_mode": {
    "name": "ipython",
    "version": 3
   },
   "file_extension": ".py",
   "mimetype": "text/x-python",
   "name": "python",
   "nbconvert_exporter": "python",
   "pygments_lexer": "ipython3",
   "version": "3.7.6"
  }
 },
 "nbformat": 4,
 "nbformat_minor": 4
}
