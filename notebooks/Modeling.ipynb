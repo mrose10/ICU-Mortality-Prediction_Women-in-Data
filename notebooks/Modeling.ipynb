{
 "cells": [
  {
   "cell_type": "markdown",
   "metadata": {},
   "source": [
    "### Modeling.\n",
    "\n",
    "Here comes the really fun step: modeling! For this step, you'll consider the types of models that would be appropriate to use given the features in your dataset and then dive right in and build two or three models. Please note: in addition to considering different algorithm types in your model selection, be sure to also consider applying model hyperparameter tuning operations. "
   ]
  },
  {
   "cell_type": "code",
   "execution_count": 21,
   "metadata": {},
   "outputs": [],
   "source": [
    "import os\n",
    "import pandas as pd\n",
    "import numpy as np\n",
    "import matplotlib.pyplot as plt\n",
    "import import_ipynb\n",
    "import Preprocessing as data"
   ]
  },
  {
   "cell_type": "code",
   "execution_count": 22,
   "metadata": {},
   "outputs": [],
   "source": [
    "Xtest = data.Xtest\n",
    "Xtrain = data.Xtrain\n",
    "ytest = data.ytest\n",
    "ytrain = data.ytrain\n",
    "\n",
    "features = data.features"
   ]
  },
  {
   "cell_type": "markdown",
   "metadata": {},
   "source": [
    "#### Start with a logistic regression"
   ]
  },
  {
   "cell_type": "code",
   "execution_count": 23,
   "metadata": {},
   "outputs": [
    {
     "name": "stdout",
     "output_type": "stream",
     "text": [
      "Logistic Regression Score is : 0.92\n"
     ]
    }
   ],
   "source": [
    "from sklearn.linear_model import LogisticRegressionCV\n",
    "\n",
    "logreg = LogisticRegressionCV(cv=5)\n",
    "logreg.fit(Xtrain,ytrain)\n",
    "probs = logreg.predict_proba(Xtest)\n",
    "print('Logistic Regression Score is :',round(logreg.score(Xtest,ytest),2))\n",
    "\n",
    "logreg_feat = logreg.coef_"
   ]
  },
  {
   "cell_type": "code",
   "execution_count": 24,
   "metadata": {},
   "outputs": [
    {
     "data": {
      "text/plain": [
       "['hospital_id',\n",
       " 'age',\n",
       " 'bmi',\n",
       " 'ethnicity',\n",
       " 'elective_surgery',\n",
       " 'has_h1',\n",
       " 'icu_admit_source',\n",
       " 'icu_type',\n",
       " 'apache_3j_bodysystem',\n",
       " 'apache_3j_diagnosis',\n",
       " 'apache_2_diagnosis',\n",
       " 'lactate',\n",
       " 'ACR',\n",
       " 'h1_temp_min']"
      ]
     },
     "execution_count": 24,
     "metadata": {},
     "output_type": "execute_result"
    }
   ],
   "source": [
    "features"
   ]
  },
  {
   "cell_type": "code",
   "execution_count": null,
   "metadata": {},
   "outputs": [],
   "source": []
  }
 ],
 "metadata": {
  "kernelspec": {
   "display_name": "Python 3",
   "language": "python",
   "name": "python3"
  },
  "language_info": {
   "codemirror_mode": {
    "name": "ipython",
    "version": 3
   },
   "file_extension": ".py",
   "mimetype": "text/x-python",
   "name": "python",
   "nbconvert_exporter": "python",
   "pygments_lexer": "ipython3",
   "version": "3.7.6"
  }
 },
 "nbformat": 4,
 "nbformat_minor": 4
}
