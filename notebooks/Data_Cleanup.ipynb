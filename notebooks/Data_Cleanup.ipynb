{
 "cells": [
  {
   "cell_type": "markdown",
   "metadata": {},
   "source": [
    "### Functions to clean up data after split train.\n",
    "\n",
    "#### They are collected as I go throug EDA"
   ]
  },
  {
   "cell_type": "code",
   "execution_count": 10,
   "metadata": {},
   "outputs": [],
   "source": [
    "import pandas as pd\n",
    "import numpy as np"
   ]
  },
  {
   "cell_type": "markdown",
   "metadata": {},
   "source": [
    "**Collect list of existing interesting features**"
   ]
  },
  {
   "cell_type": "code",
   "execution_count": 11,
   "metadata": {},
   "outputs": [],
   "source": [
    "features = ['hospital_id','age','bmi',\n",
    "            'ethnicity',\n",
    "            'elective_surgery',\n",
    "           'icu_admit_source',\n",
    "           'apache_3j_bodysystem',\n",
    "           'apache_3j_diagnosis',\n",
    "           'apache_2_diagnosis',\n",
    "           'h1_temp_min']"
   ]
  },
  {
   "cell_type": "markdown",
   "metadata": {},
   "source": [
    "**Features to drop**"
   ]
  },
  {
   "cell_type": "code",
   "execution_count": 12,
   "metadata": {},
   "outputs": [],
   "source": [
    "feat_drop = ['encounter_id','hospital_admit_source','height','weight',\n",
    "             'apache_2_bodysystem']"
   ]
  },
  {
   "cell_type": "markdown",
   "metadata": {},
   "source": [
    "**Features to keep, but drop rows**"
   ]
  },
  {
   "cell_type": "code",
   "execution_count": 13,
   "metadata": {},
   "outputs": [],
   "source": [
    "def dropFeatRows(df):\n",
    "    df = df.dropna(subset = ['icu_admit_source'],axis=0)\n",
    "    df = df.dropna(subset = ['gender'],axis=0)\n",
    "    # Apache 2 diagnosis, 3 diagnosis and bodysystem all share missng rows\n",
    "    #df = df.dropna(subset = ['apache_3j_bodysytem'],axis=0)\n",
    "    \n",
    "    return df"
   ]
  },
  {
   "cell_type": "markdown",
   "metadata": {},
   "source": [
    "**Features to keep, fillna**"
   ]
  },
  {
   "cell_type": "code",
   "execution_count": 14,
   "metadata": {},
   "outputs": [],
   "source": [
    "def fillNA(df):\n",
    "    # Replace with mean\n",
    "    df['age'] = df['age'].fillna(df['age'].mean(skipna =True))\n",
    "    \n",
    "    # Replace BMI with median\n",
    "    df['bmi'] = df['bmi'].fillna(df['bmi'].median(skipna =True))\n",
    "\n",
    "    # Replace ethnicity with most common\n",
    "    df['ethnicity'] = df['ethnicity'].fillna('Caucasian')\n",
    "    \n",
    "    return df"
   ]
  },
  {
   "cell_type": "markdown",
   "metadata": {},
   "source": [
    "### Feature Engineering"
   ]
  },
  {
   "cell_type": "code",
   "execution_count": 15,
   "metadata": {},
   "outputs": [],
   "source": [
    "# Get columns with 'h1' and create identifier column\n",
    "def makeh1(df):\n",
    "    hour1 = df.columns[['h1' in i for i in df.columns]]\n",
    "    has_h1= (df[hour1].isna().sum(axis=1) > 0).astype(int)\n",
    "    df = df.assign(has_h1=has_h1.values)\n",
    "    \n",
    "    return df"
   ]
  },
  {
   "cell_type": "markdown",
   "metadata": {},
   "source": [
    "### Collapse apache, d1 and h1 measurements"
   ]
  },
  {
   "cell_type": "code",
   "execution_count": 16,
   "metadata": {},
   "outputs": [],
   "source": [
    "def getLactate(df):\n",
    "    # Get all columns containing lactate\n",
    "    col = df.columns[['lactate' in i for i in df.columns]]\n",
    "    \n",
    "    # Create indicator column\n",
    "    lactate_ind = (df[col].notna().sum(axis=1)>0).astype(int)\n",
    "    df = df.assign(lactate_ind=lactate_ind.values)\n",
    "    \n",
    "    # Create aggregate column by MIN\n",
    "    df = df.assign(lactate = np.min(df[col],axis=1))\n",
    "    \n",
    "    # Fill NA by 1\n",
    "    df['lactate'] = df['lactate'].fillna(1)\n",
    "    \n",
    "    return df\n",
    "    "
   ]
  },
  {
   "cell_type": "code",
   "execution_count": 17,
   "metadata": {},
   "outputs": [],
   "source": [
    "def getBun(df):\n",
    "    # Get all columns containing bun\n",
    "    col = df.columns[['bun' in i for i in df.columns]]\n",
    "    \n",
    "    # Create indicator column\n",
    "    \n",
    "    \n",
    "    # Create aggregate column by MEDIAN\n",
    "    df = df.assign(bun = df[col].median(axis=1))\n",
    "    \n",
    "    # Fill NA by MEDIAN\n",
    "    df['bun'] = df['bun'].fillna(df['bun'].median(skipna =True))\n",
    "    \n",
    "    return df"
   ]
  },
  {
   "cell_type": "code",
   "execution_count": 18,
   "metadata": {},
   "outputs": [],
   "source": [
    "def getBilirubin(df):\n",
    "    col = df.columns[['bilirubin' in i for i in df.columns]]\n",
    "    df = df.assign(bilirubin = df[col].median(axis=1))\n",
    "    df['bilirubin'] = df['bilirubin'].fillna(df['bilirubin'].median(skipna =True))\n",
    "    \n",
    "    # Drop columns?\n",
    "    #df[col].drop()\n",
    "    \n",
    "    return df"
   ]
  },
  {
   "cell_type": "code",
   "execution_count": 19,
   "metadata": {},
   "outputs": [],
   "source": [
    "def getACR(df):\n",
    "    col = df.columns[['albumin' in i for i in df.columns]]\n",
    "    df = df.assign(albumin = df[col].median(axis=1))\n",
    "    df['albumin'] = df['albumin'].fillna(df['albumin'].median(skipna =True))\n",
    "    \n",
    "    # Drop columns?\n",
    "    df = df.drop(columns=col)\n",
    "    \n",
    "    col = df.columns[['creatinine' in i for i in df.columns]]\n",
    "    df = df.assign(creatinine = df[col].median(axis=1))\n",
    "    df['creatinine'] = df['creatinine'].fillna(df['creatinine'].median(skipna =True))\n",
    "    \n",
    "    # Drop columns?\n",
    "    df = df.drop(columns=col)\n",
    "    \n",
    "    df = df.assign(ACR = df.albumin/df.creatinine)\n",
    "    \n",
    "    return df"
   ]
  },
  {
   "cell_type": "markdown",
   "metadata": {},
   "source": [
    "**Summarize**"
   ]
  },
  {
   "cell_type": "code",
   "execution_count": null,
   "metadata": {},
   "outputs": [],
   "source": [
    "def transform_data(df):\n",
    "    df = dropFeatRows(df)\n",
    "    df = getBilirubin(df)\n",
    "    df = getBun(df)\n",
    "    df = getLactate(df)\n",
    "    df = makeh1(df)\n",
    "    df = dropFeatRows(df)\n",
    "    df = getACR(df)\n",
    "    \n",
    "    return df"
   ]
  }
 ],
 "metadata": {
  "kernelspec": {
   "display_name": "Python 3",
   "language": "python",
   "name": "python3"
  },
  "language_info": {
   "codemirror_mode": {
    "name": "ipython",
    "version": 3
   },
   "file_extension": ".py",
   "mimetype": "text/x-python",
   "name": "python",
   "nbconvert_exporter": "python",
   "pygments_lexer": "ipython3",
   "version": "3.7.6"
  }
 },
 "nbformat": 4,
 "nbformat_minor": 4
}
